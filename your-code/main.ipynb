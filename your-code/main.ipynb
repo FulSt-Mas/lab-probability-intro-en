{
 "cells": [
  {
   "cell_type": "markdown",
   "metadata": {},
   "source": [
    "# Probability"
   ]
  },
  {
   "cell_type": "markdown",
   "metadata": {},
   "source": [
    "## Challenge 1\n",
    "There is a box with 10 white balls, 12 red balls and 8 black balls. Calculate the probability of:\n",
    "* Taking a white ball out.\n",
    "* Taking a white ball on first extraction and a black ball out on second extraction without replacing the first one.\n",
    "* Taking a white ball on first extraction and a black ball out on second extraction replacing the first one.\n",
    "* Taking 3 balls and them being all different colours."
   ]
  },
  {
   "cell_type": "code",
   "execution_count": 1,
   "metadata": {},
   "outputs": [
    {
     "name": "stdout",
     "output_type": "stream",
     "text": [
      "Prob. white: 0.3333333333333333\n",
      "Prob. white then black (no replacement): 0.09195402298850575\n",
      "Prob. white then black (with replacement): 0.08888888888888888\n",
      "Prob. all different colors: 0.03940886699507389\n"
     ]
    }
   ],
   "source": [
    "# YOUR CODE HERE\n",
    "\n",
    "# Total number of balls\n",
    "total_balls = 10 + 12 + 8\n",
    "\n",
    "# Calculate individual probabilities for each case\n",
    "# Case 1: Probability of picking a white ball\n",
    "prob_white = 10 / total_balls\n",
    "\n",
    "# Case 2: Without replacement\n",
    "prob_white_first_no_replacement = (10 / total_balls) * (8 / (total_balls - 1))\n",
    "\n",
    "# Case 3: With replacement\n",
    "prob_white_first_with_replacement = (10 / total_balls) * (8 / total_balls)\n",
    "\n",
    "# Case 4: All different colors\n",
    "# First pick\n",
    "prob_different_colors = (10 / total_balls) * (12 / (total_balls - 1)) * (8 / (total_balls - 2))\n",
    "\n",
    "# Outputs\n",
    "print(f\"Prob. white: {prob_white}\")\n",
    "print(f\"Prob. white then black (no replacement): {prob_white_first_no_replacement}\")\n",
    "print(f\"Prob. white then black (with replacement): {prob_white_first_with_replacement}\")\n",
    "print(f\"Prob. all different colors: {prob_different_colors}\")"
   ]
  },
  {
   "cell_type": "markdown",
   "metadata": {},
   "source": [
    "## Challenge 2\n",
    "\n",
    "You want to go on picnic on Saturday. You hate rain, and would know to plan your weekend. To help you make a decision, you gather the following data about rainy days:\n",
    "\n",
    "* 40% of all days are cloudy.\n",
    "* About 50% of cloudy days are rainy. \n",
    "* About 20% of non-cloudy days are rainy.\n",
    "\n",
    "What is the chance of rain during next Saturday?"
   ]
  },
  {
   "cell_type": "code",
   "execution_count": 2,
   "metadata": {},
   "outputs": [
    {
     "name": "stdout",
     "output_type": "stream",
     "text": [
      "The probability of rain on Saturday is 0.32\n"
     ]
    }
   ],
   "source": [
    "# YOUR CODE HERE\n",
    "# Probabilities\n",
    "prob_cloudy = 0.4\n",
    "prob_rain_given_cloudy = 0.5\n",
    "\n",
    "prob_non_cloudy = 0.6\n",
    "prob_rain_given_non_cloudy = 0.2\n",
    "\n",
    "# Total probability of rain\n",
    "prob_rain = (prob_cloudy * prob_rain_given_cloudy) + (prob_non_cloudy * prob_rain_given_non_cloudy)\n",
    "\n",
    "print(f\"The probability of rain on Saturday is {prob_rain:.2f}\")"
   ]
  },
  {
   "cell_type": "markdown",
   "metadata": {},
   "source": [
    "## Challenge 3\n",
    "\n",
    "A and B are events of a probability such that $P(A) = 0.3$, $P(B) = 0.6$ and $P(A \\cap B) = 0.1$\n",
    "\n",
    "Which of the following statements are true?  \n",
    "**HINT: draw a big Venn Diagram by your side**  \n",
    "* $P(\\overline{A}) = 0.7$\n",
    "* $P(A \\cup B) = 0.6$\n",
    "* $P(A \\cap \\overline{B}) = 0.2$\n",
    "* $P(A \\cup \\overline{A}) = 1$  \n",
    "* $P(A \\cap (B \\cup \\overline{B})) = 0.4$\n",
    "* $P(\\overline{A} \\cap \\overline{B}) = 0.3$\n",
    "* $P(\\overline{A \\cap B}) = 0.9$"
   ]
  },
  {
   "cell_type": "code",
   "execution_count": 9,
   "metadata": {},
   "outputs": [
    {
     "name": "stdout",
     "output_type": "stream",
     "text": [
      "P(¬A) = 0.7: True\n",
      "P(A ∪ B) = 0.6: False\n",
      "P(A ∩ ¬B) = 0.2: False\n",
      "P(A ∪ ¬A) = 1: True\n",
      "P(A ∩ (B ∪ ¬B)) = 0.4: False\n",
      "P(¬A ∩ ¬B) = 0.3: False\n",
      "P(¬(A ∩ B)) = 0.9: True\n"
     ]
    }
   ],
   "source": [
    "# YOUR CODE HERE\n",
    "\n",
    "# Given probabilities\n",
    "P_A = 0.3\n",
    "P_B = 0.6\n",
    "P_A_and_B = 0.1\n",
    "\n",
    "# Calculate based on set operations\n",
    "P_A_or_B = P_A + P_B - P_A_and_B\n",
    "P_not_A = 1 - P_A\n",
    "P_A_and_not_B = P_A - P_A_and_B\n",
    "P_not_A_or_not_B = 1 - P_A_or_B\n",
    "P_not_A_and_B = 1 - P_A_and_B\n",
    "\n",
    "# Check each statement\n",
    "true_statements = {\n",
    "    \"P(¬A) = 0.7\": P_not_A == 0.7,\n",
    "    \"P(A ∪ B) = 0.6\": P_A_or_B == 0.6,\n",
    "    \"P(A ∩ ¬B) = 0.2\": P_A_and_not_B == 0.2,\n",
    "    \"P(A ∪ ¬A) = 1\": True,\n",
    "    \"P(A ∩ (B ∪ ¬B)) = 0.4\": P_A == 0.4,\n",
    "    \"P(¬A ∩ ¬B) = 0.3\": P_not_A_or_not_B == 0.3,\n",
    "    \"P(¬(A ∩ B)) = 0.9\": P_not_A_and_B == 0.9\n",
    "}\n",
    "\n",
    "# Output results\n",
    "for statement, is_true in true_statements.items():\n",
    "    print(f\"{statement}: {'True' if is_true else 'False'}\")\n"
   ]
  },
  {
   "cell_type": "markdown",
   "metadata": {},
   "source": [
    "## Challenge 4\n",
    "\n",
    " * If someone flies to China, the probability of getting Covid is 1%  \n",
    " * If someone flies to Italy, the probability of getting Covid is 20%  \n",
    "\n",
    "I roll 1 dice with numbers 1, 2, 3, 4, 5, 6:  \n",
    " * If 1: I fly to Italy\n",
    " * If not 1: I fly to China\n",
    "\n",
    "During my trip, I got Covid. What is the probability that I flew to China?"
   ]
  },
  {
   "cell_type": "code",
   "execution_count": 4,
   "metadata": {},
   "outputs": [
    {
     "name": "stdout",
     "output_type": "stream",
     "text": [
      "The probability that you flew to China given that you got COVID is 0.20\n"
     ]
    }
   ],
   "source": [
    "# YOUR CODE HERE\n",
    "\n",
    "# Probabilities\n",
    "prob_china = 5/6  # Probability of flying to China\n",
    "prob_italy = 1/6  # Probability of flying to Italy\n",
    "\n",
    "prob_covid_given_china = 0.01  # Probability of getting COVID in China\n",
    "prob_covid_given_italy = 0.2   # Probability of getting COVID in Italy\n",
    "\n",
    "# Total probability of getting COVID\n",
    "prob_covid = (prob_covid_given_china * prob_china) + (prob_covid_given_italy * prob_italy)\n",
    "\n",
    "# Probability of having flown to China given that I got COVID\n",
    "prob_china_given_covid = (prob_covid_given_china * prob_china) / prob_covid\n",
    "\n",
    "# Output the result\n",
    "print(f\"The probability that you flew to China given that you got COVID is {prob_china_given_covid:.2f}\")"
   ]
  },
  {
   "cell_type": "markdown",
   "metadata": {},
   "source": [
    "## BONUS\n",
    "\n",
    "You roll 2 dice. What is the probability that the sum of the numbers is 7? And 8? And 9? Then simulate 10000 times and draw a countplot."
   ]
  },
  {
   "cell_type": "markdown",
   "metadata": {},
   "source": [
    "When you roll two dice, each dice can result in a number between 1 and 6. Interested in the probability of the sums being 7, 8, and 9. To determine these probabilities,  first consider all possible outcomes and then see how many ways each sum can be achieved.\n",
    "\n",
    "\n",
    "Calculating Probabilities\n",
    "\n",
    "Each dice has 6 faces, so there are ( 6 \\times 6 = 36 ) total possible outcomes when rolling two dice.\n",
    "\n",
    "Sum of 7:\n",
    "Possible combinations: (1,6), (2,5), (3,4), (4,3), (5,2), (6,1).\n",
    "There are 6 ways to achieve this, so the probability is ( \\frac{6}{36} = \\frac{1}{6} ).\n",
    "\n",
    "Sum of 8:\n",
    "\n",
    "Possible combinations: (2,6), (3,5), (4,4), (5,3), (6,2).\n",
    "There are 5 ways to achieve this, so the probability is ( \\frac{5}{36} ).\n",
    "\n",
    "\n",
    "Sum of 9:\n",
    "\n",
    "Possible combinations: (3,6), (4,5), (5,4), (6,3).\n",
    "There are 4 ways to achieve this, so the probability is ( \\frac{4}{36} = \\frac{1}{9} ).\n"
   ]
  },
  {
   "cell_type": "code",
   "execution_count": 7,
   "metadata": {},
   "outputs": [
    {
     "name": "stdout",
     "output_type": "stream",
     "text": [
      "All possible outcomes when rolling two dice:\n",
      "(1, 1)\n",
      "(1, 2)\n",
      "(1, 3)\n",
      "(1, 4)\n",
      "(1, 5)\n",
      "(1, 6)\n",
      "(2, 1)\n",
      "(2, 2)\n",
      "(2, 3)\n",
      "(2, 4)\n",
      "(2, 5)\n",
      "(2, 6)\n",
      "(3, 1)\n",
      "(3, 2)\n",
      "(3, 3)\n",
      "(3, 4)\n",
      "(3, 5)\n",
      "(3, 6)\n",
      "(4, 1)\n",
      "(4, 2)\n",
      "(4, 3)\n",
      "(4, 4)\n",
      "(4, 5)\n",
      "(4, 6)\n",
      "(5, 1)\n",
      "(5, 2)\n",
      "(5, 3)\n",
      "(5, 4)\n",
      "(5, 5)\n",
      "(5, 6)\n",
      "(6, 1)\n",
      "(6, 2)\n",
      "(6, 3)\n",
      "(6, 4)\n",
      "(6, 5)\n",
      "(6, 6)\n",
      "\n",
      "Total number of possible outcomes: 36\n"
     ]
    }
   ],
   "source": [
    "# Initialize an empty list to hold all possible outcomes\n",
    "outcomes = []\n",
    "\n",
    "# Loop over each possible outcome for the first die\n",
    "for die1 in range(1, 7):\n",
    "    # Loop over each possible outcome for the second die\n",
    "    for die2 in range(1, 7):\n",
    "        # Add each combination (tuple) to the list of outcomes\n",
    "        outcomes.append((die1, die2))\n",
    "\n",
    "# Print all possible outcomes\n",
    "print(\"All possible outcomes when rolling two dice:\")\n",
    "for outcome in outcomes:\n",
    "    print(outcome)\n",
    "\n",
    "# Print the total number of outcomes\n",
    "print(f\"\\nTotal number of possible outcomes: {len(outcomes)}\")"
   ]
  },
  {
   "cell_type": "code",
   "execution_count": 8,
   "metadata": {},
   "outputs": [
    {
     "name": "stdout",
     "output_type": "stream",
     "text": [
      "Simulated probability of rolling a sum of 7: 0.165\n",
      "Simulated probability of rolling a sum of 8: 0.134\n",
      "Simulated probability of rolling a sum of 9: 0.113\n"
     ]
    },
    {
     "name": "stderr",
     "output_type": "stream",
     "text": [
      "/var/folders/r6/ycxt4t395sz7rs26t5w0vjgc0000gn/T/ipykernel_7971/785068699.py:31: FutureWarning: \n",
      "\n",
      "Passing `palette` without assigning `hue` is deprecated and will be removed in v0.14.0. Assign the `x` variable to `hue` and set `legend=False` for the same effect.\n",
      "\n",
      "  sns.countplot(results, palette=\"viridis\", order=range(2, 13))\n"
     ]
    },
    {
     "data": {
      "image/png": "[encoded data removed]",
      "text/plain": [
       "<Figure size 1000x600 with 1 Axes>"
      ]
     },
     "metadata": {},
     "output_type": "display_data"
    }
   ],
   "source": [
    "import random\n",
    "import matplotlib.pyplot as plt\n",
    "import seaborn as sns\n",
    "\n",
    "# Simulation parameters\n",
    "n_simulations = 10000\n",
    "results = []\n",
    "\n",
    "# Simulate dice rolls\n",
    "for _ in range(n_simulations):\n",
    "    die1 = random.randint(1, 6)\n",
    "    die2 = random.randint(1, 6)\n",
    "    results.append(die1 + die2)\n",
    "\n",
    "# Count occurrences of sums 7, 8, and 9\n",
    "sums_of_interest = {7: 0, 8: 0, 9: 0}\n",
    "\n",
    "for result in results:\n",
    "    if result in sums_of_interest:\n",
    "        sums_of_interest[result] += 1\n",
    "\n",
    "# Calculate probabilities based on simulation\n",
    "probabilities = {sum_value: count / n_simulations for sum_value, count in sums_of_interest.items()}\n",
    "\n",
    "# Output the simulated probabilities\n",
    "for sum_value, prob in probabilities.items():\n",
    "    print(f\"Simulated probability of rolling a sum of {sum_value}: {prob:.3f}\")\n",
    "\n",
    "# Plotting the distribution of the sums\n",
    "plt.figure(figsize=(10, 6))\n",
    "sns.countplot(results, palette=\"viridis\", order=range(2, 13))\n",
    "plt.title('Distribution of Sums of Two Dice Rolls')\n",
    "plt.xlabel('Sum')\n",
    "plt.ylabel('Frequency')\n",
    "plt.xticks(range(2, 13))  # Possible sums range from 2 to 12\n",
    "plt.show()\n"
   ]
  },
  {
   "cell_type": "code",
   "execution_count": 6,
   "metadata": {},
   "outputs": [
    {
     "name": "stderr",
     "output_type": "stream",
     "text": [
      "/var/folders/r6/ycxt4t395sz7rs26t5w0vjgc0000gn/T/ipykernel_7971/1460963442.py:18: FutureWarning: \n",
      "\n",
      "Passing `palette` without assigning `hue` is deprecated and will be removed in v0.14.0. Assign the `x` variable to `hue` and set `legend=False` for the same effect.\n",
      "\n",
      "  sns.countplot(results, palette=\"viridis\")\n"
     ]
    },
    {
     "data": {
      "image/png": "[encoded data removed]",
      "text/plain": [
       "<Figure size 1000x600 with 1 Axes>"
      ]
     },
     "metadata": {},
     "output_type": "display_data"
    }
   ],
   "source": [
    "# YOUR CODE HERE\n",
    "import random\n",
    "import seaborn as sns\n",
    "import matplotlib.pyplot as plt\n",
    "\n",
    "# Simulation parameters\n",
    "n_simulations = 10000\n",
    "results = []\n",
    "\n",
    "# Simulate dice rolls\n",
    "for _ in range(n_simulations):\n",
    "    die1 = random.randint(1, 6)\n",
    "    die2 = random.randint(1, 6)\n",
    "    results.append(die1 + die2)\n",
    "\n",
    "# Plotting the results\n",
    "plt.figure(figsize=(10, 6))\n",
    "sns.countplot(results, palette=\"viridis\")\n",
    "plt.title('Sum of Two Dice Rolls')\n",
    "plt.xlabel('Sum')\n",
    "plt.ylabel('Frequency')\n",
    "plt.xticks(range(2, 13))  # Possible sums range from 2 to 12\n",
    "plt.show()"
   ]
  },
  {
   "cell_type": "markdown",
   "metadata": {},
   "source": [
    "This code simulates rolling two six-sided dice 10,000 times, records the sum of each pair of rolls, and then visualizes the frequency of each sum using a bar plot (countplot). This example helps provide both a numerical and visual understanding of the likely outcomes when rolling two dice.\n",
    "\n"
   ]
  },
  {
   "cell_type": "code",
   "execution_count": null,
   "metadata": {},
   "outputs": [],
   "source": []
  }
 ],
 "metadata": {
  "kernelspec": {
   "display_name": "myenv",
   "language": "python",
   "name": "python3"
  },
  "language_info": {
   "codemirror_mode": {
    "name": "ipython",
    "version": 3
   },
   "file_extension": ".py",
   "mimetype": "text/x-python",
   "name": "python",
   "nbconvert_exporter": "python",
   "pygments_lexer": "ipython3",
   "version": "3.13.5"
  },
  "toc": {
   "base_numbering": 1,
   "nav_menu": {},
   "number_sections": false,
   "sideBar": true,
   "skip_h1_title": false,
   "title_cell": "Table of Contents",
   "title_sidebar": "Contents",
   "toc_cell": false,
   "toc_position": {
    "height": "calc(100% - 180px)",
    "left": "10px",
    "top": "150px",
    "width": "296.475px"
   },
   "toc_section_display": true,
   "toc_window_display": false
  },
  "varInspector": {
   "cols": {
    "lenName": 16,
    "lenType": 16,
    "lenVar": 40
   },
   "kernels_config": {
    "python": {
     "delete_cmd_postfix": "",
     "delete_cmd_prefix": "del ",
     "library": "var_list.py",
     "varRefreshCmd": "print(var_dic_list())"
    },
    "r": {
     "delete_cmd_postfix": ") ",
     "delete_cmd_prefix": "rm(",
     "library": "var_list.r",
     "varRefreshCmd": "cat(var_dic_list()) "
    }
   },
   "types_to_exclude": [
    "module",
    "function",
    "builtin_function_or_method",
    "instance",
    "_Feature"
   ],
   "window_display": false
  }
 },
 "nbformat": 4,
 "nbformat_minor": 2
}
